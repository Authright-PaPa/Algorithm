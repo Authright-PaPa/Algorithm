{
 "cells": [
  {
   "cell_type": "code",
   "execution_count": 37,
   "metadata": {},
   "outputs": [],
   "source": [
    "public int combo(int balls, int plates) {\n",
    "    int[][] solution = new int[balls+1][plates+1];\n",
    "    if (solution[balls][plates] != 0) return solution[balls][plates];\n",
    "    else if (balls <= 1 || plates <= 1) return 1;\n",
    "    else if (balls < plates) \n",
    "    {\n",
    "        solution[balls][plates] = combo(balls, balls);\n",
    "        return solution[balls][plates];\n",
    "    }\n",
    "    else \n",
    "    {\n",
    "        solution[balls][plates] = combo(balls - plates, plates) + combo(balls, plates-1);\n",
    "        return solution[balls][plates];\n",
    "    }\n",
    "}"
   ]
  },
  {
   "cell_type": "code",
   "execution_count": 42,
   "metadata": {},
   "outputs": [
    {
     "name": "stdout",
     "output_type": "stream",
     "text": [
      "Total number of appraoch is 164955700\n"
     ]
    }
   ],
   "source": [
    "int balls = 100;\n",
    "int plates = 30;\n",
    "int sum = combo(balls, plates);\n",
    "System.out.println(\"Total number of appraoch is \" + sum)"
   ]
  }
 ],
 "metadata": {
  "kernelspec": {
   "display_name": "Java",
   "language": "java",
   "name": "java"
  },
  "language_info": {
   "codemirror_mode": "java",
   "file_extension": ".jshell",
   "mimetype": "text/x-java-source",
   "name": "Java",
   "pygments_lexer": "java",
   "version": "11.0.2+9-LTS"
  }
 },
 "nbformat": 4,
 "nbformat_minor": 2
}
