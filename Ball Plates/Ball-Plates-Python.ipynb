{
 "cells": [
  {
   "cell_type": "code",
   "execution_count": null,
   "metadata": {},
   "outputs": [],
   "source": [
    "import math\n",
    "import time"
   ]
  },
  {
   "cell_type": "code",
   "execution_count": null,
   "metadata": {},
   "outputs": [],
   "source": [
    "def comboold(balls, plates):\n",
    "    if balls == 1 or plates == 1:\n",
    "        solu = 1\n",
    "    elif balls == 2:\n",
    "        solu = 2\n",
    "    elif plates == 2:\n",
    "        solu = math.ceil(balls/2)\n",
    "    elif balls == 3:\n",
    "        solu = 3\n",
    "    elif balls > 3:\n",
    "        solu = combo(balls - 3, 3) + combo(balls, 2) + 1\n",
    "    elif plates > 3 and balls > plates:\n",
    "        solu = combo(balls - plates, plates) + 1\n",
    "        while plates >= 1:\n",
    "            solu += combo(balls, plates-1)\n",
    "            plates -= 1\n",
    "    return solu"
   ]
  },
  {
   "cell_type": "code",
   "execution_count": 338,
   "metadata": {},
   "outputs": [],
   "source": [
    "# if(balls<plates): f(balls, plates) = f(balls, balls)\n",
    "# if(balls>=plates): \n",
    "#     if(plate are empty): f(balls, plates) = f(balls, plates-1)\n",
    "#     if(plates are not empty): f(balls, plates) = f(balls-plates, plates)\n",
    "solutions = {}\n",
    "def combo(balls, plates):\n",
    "    key = str(balls) +\",\"+ str(plates)\n",
    "    if solutions.get(key):\n",
    "        return solutions.get(key)\n",
    "    if (balls <= 1 or plates <= 1):\n",
    "        return 1\n",
    "    if (balls < plates):\n",
    "        temp = combo(balls, balls)\n",
    "        solutions[key] = temp\n",
    "        return temp\n",
    "    else:\n",
    "        temp1 = combo(balls, plates-1)\n",
    "        temp2 = combo(balls-plates, plates)\n",
    "        solutions[key] = temp1 + temp2\n",
    "        return temp1 + temp2"
   ]
  },
  {
   "cell_type": "code",
   "execution_count": 339,
   "metadata": {},
   "outputs": [],
   "source": [
    "assert(combo(1,3)) == 1\n",
    "assert(combo(2,3)) == 2\n",
    "assert(combo(3,3)) == 3\n",
    "assert(combo(4,3)) == 4\n",
    "assert(combo(5,3)) == 5\n",
    "assert(combo(6,3)) == 7\n",
    "assert(combo(7,3)) == 8"
   ]
  },
  {
   "cell_type": "code",
   "execution_count": 331,
   "metadata": {},
   "outputs": [
    {
     "name": "stdout",
     "output_type": "stream",
     "text": [
      "--- 6.079673767089844e-05 seconds ---26719253108\n"
     ]
    }
   ],
   "source": [
    "start_time = time.time()\n",
    "haha = combo(150,30)\n",
    "print(\"--- %s seconds ---\" % (time.time() - start_time) + str(haha))"
   ]
  },
  {
   "cell_type": "code",
   "execution_count": null,
   "metadata": {},
   "outputs": [],
   "source": [
    "def coinchange(coins, amount):\n",
    "    dp = [0] + [float('inf') for i in range(amount)]\n",
    "    for i in range(1, amount+1):\n",
    "        for coin in coins:\n",
    "            if i-coin >= 0:\n",
    "                dp[i] = min(dp[i],dp[i-coin]+1)\n",
    "    if dp[-1] == float('inf'):\n",
    "        return -1\n",
    "    return dp[-1]"
   ]
  },
  {
   "cell_type": "code",
   "execution_count": null,
   "metadata": {},
   "outputs": [],
   "source": [
    "def xiachedan(balls, plates):\n",
    "    return (math.factorial(balls+plates-1)/(math.factorial(balls)*math.factorial(plates-1)))"
   ]
  },
  {
   "cell_type": "code",
   "execution_count": null,
   "metadata": {},
   "outputs": [],
   "source": [
    "xiachedan(5,3)"
   ]
  },
  {
   "cell_type": "code",
   "execution_count": null,
   "metadata": {},
   "outputs": [],
   "source": []
  }
 ],
 "metadata": {
  "kernelspec": {
   "display_name": "Python 3",
   "language": "python",
   "name": "python3"
  },
  "language_info": {
   "codemirror_mode": {
    "name": "ipython",
    "version": 3
   },
   "file_extension": ".py",
   "mimetype": "text/x-python",
   "name": "python",
   "nbconvert_exporter": "python",
   "pygments_lexer": "ipython3",
   "version": "3.6.5"
  }
 },
 "nbformat": 4,
 "nbformat_minor": 2
}
